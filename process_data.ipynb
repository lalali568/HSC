{
 "cells": [
  {
   "cell_type": "code",
   "execution_count": 74,
   "metadata": {
    "collapsed": true,
    "ExecuteTime": {
     "start_time": "2023-05-11T19:33:48.155017Z",
     "end_time": "2023-05-11T19:33:48.165144Z"
    }
   },
   "outputs": [],
   "source": [
    "import numpy as np\n",
    "import pandas as pd\n",
    "from sklearn.preprocessing import MinMaxScaler"
   ]
  },
  {
   "cell_type": "markdown",
   "source": [
    "### WADI"
   ],
   "metadata": {
    "collapsed": false
   }
  },
  {
   "cell_type": "code",
   "execution_count": 75,
   "outputs": [],
   "source": [
    "train_data = pd.read_csv('data/WADI/2019/WADI_14days_new.csv',header=0,low_memory=False)\n",
    "test_data = pd.read_csv('data/WADI/2019/WADI_attackdataLABLE.csv',header=1,low_memory=False)"
   ],
   "metadata": {
    "collapsed": false,
    "ExecuteTime": {
     "start_time": "2023-05-11T19:33:52.639704Z",
     "end_time": "2023-05-11T19:34:02.859254Z"
    }
   }
  },
  {
   "cell_type": "code",
   "execution_count": 76,
   "outputs": [],
   "source": [
    "train_data=train_data.iloc[:,3:]"
   ],
   "metadata": {
    "collapsed": false,
    "ExecuteTime": {
     "start_time": "2023-05-11T19:34:05.550475Z",
     "end_time": "2023-05-11T19:34:05.739040Z"
    }
   }
  },
  {
   "cell_type": "code",
   "execution_count": 77,
   "outputs": [],
   "source": [
    "test_data=test_data.iloc[:,3:]"
   ],
   "metadata": {
    "collapsed": false,
    "ExecuteTime": {
     "start_time": "2023-05-11T19:34:07.312984Z",
     "end_time": "2023-05-11T19:34:07.354078Z"
    }
   }
  },
  {
   "cell_type": "code",
   "execution_count": 78,
   "outputs": [],
   "source": [
    "train_data = train_data.fillna(method='ffill')\n",
    "test_data = test_data.fillna(method='ffill')\n",
    "train_data = train_data.fillna(0)\n",
    "test_data = test_data.fillna(0)"
   ],
   "metadata": {
    "collapsed": false,
    "ExecuteTime": {
     "start_time": "2023-05-11T19:34:08.839983Z",
     "end_time": "2023-05-11T19:34:09.674247Z"
    }
   }
  },
  {
   "cell_type": "code",
   "execution_count": 79,
   "outputs": [],
   "source": [
    "train_data=train_data.values\n",
    "test_data=test_data.values"
   ],
   "metadata": {
    "collapsed": false,
    "ExecuteTime": {
     "start_time": "2023-05-11T19:34:13.122962Z",
     "end_time": "2023-05-11T19:34:13.366056Z"
    }
   }
  },
  {
   "cell_type": "code",
   "execution_count": 80,
   "outputs": [],
   "source": [
    "scaler = MinMaxScaler()\n",
    "train_data = scaler.fit_transform(train_data)\n",
    "test_data = scaler.fit_transform(test_data)"
   ],
   "metadata": {
    "collapsed": false,
    "ExecuteTime": {
     "start_time": "2023-05-11T19:34:19.619093Z",
     "end_time": "2023-05-11T19:34:20.347369Z"
    }
   }
  },
  {
   "cell_type": "code",
   "execution_count": 81,
   "outputs": [],
   "source": [
    "label = test_data[:,-1]\n",
    "test_data = test_data[:,:-1]"
   ],
   "metadata": {
    "collapsed": false,
    "ExecuteTime": {
     "start_time": "2023-05-11T19:34:21.431793Z",
     "end_time": "2023-05-11T19:34:21.455782Z"
    }
   }
  },
  {
   "cell_type": "markdown",
   "source": [
    "下采样"
   ],
   "metadata": {
    "collapsed": false
   }
  },
  {
   "cell_type": "code",
   "execution_count": 82,
   "outputs": [],
   "source": [
    "def downsampling(mat, interval):\n",
    "    num_row, num_col = mat.shape\n",
    "    res = num_row%interval\n",
    "    if res != 0:\n",
    "        add_num = interval - res\n",
    "        add_mat = np.zeros((add_num, num_col))\n",
    "        mat = np.concatenate((mat, add_mat))\n",
    "    num_row, num_col = mat.shape\n",
    "    mat_tmp = np.zeros((interval, int(num_row/interval), num_col))\n",
    "    for i in range(interval):\n",
    "        mat_tmp[i, ...] = mat[i::interval, :]\n",
    "    return np.mean(mat_tmp, 0)"
   ],
   "metadata": {
    "collapsed": false,
    "ExecuteTime": {
     "start_time": "2023-05-11T19:34:24.600337Z",
     "end_time": "2023-05-11T19:34:24.617642Z"
    }
   }
  },
  {
   "cell_type": "code",
   "execution_count": 83,
   "outputs": [],
   "source": [
    "train_data = downsampling(train_data, 10)\n",
    "test_data = downsampling(test_data, 10)"
   ],
   "metadata": {
    "collapsed": false,
    "ExecuteTime": {
     "start_time": "2023-05-11T19:34:26.526545Z",
     "end_time": "2023-05-11T19:34:27.306901Z"
    }
   }
  },
  {
   "cell_type": "code",
   "execution_count": 84,
   "outputs": [],
   "source": [
    "num_row=label.shape[0]\n",
    "res = num_row%10\n",
    "label = np.where(label ==1 ,0, 1)\n",
    "if res != 0:\n",
    "    add_num = 10 - res\n",
    "    add_mat = np.zeros((add_num))\n",
    "    label = np.concatenate((label, add_mat))\n",
    "label=label.reshape(-1,10)\n",
    "label=np.mean(label,1)\n",
    "label = np.where(label >0 ,1, 0)"
   ],
   "metadata": {
    "collapsed": false,
    "ExecuteTime": {
     "start_time": "2023-05-11T19:34:29.639797Z",
     "end_time": "2023-05-11T19:34:29.663040Z"
    }
   }
  },
  {
   "cell_type": "code",
   "execution_count": 85,
   "outputs": [],
   "source": [
    "np.savetxt('data/WADI/train_data.csv',train_data,delimiter=',')\n",
    "np.savetxt('data/WADI/test_data.csv',test_data,delimiter=',')\n",
    "np.savetxt('data/WADI/label.csv',label,delimiter=',')"
   ],
   "metadata": {
    "collapsed": false,
    "ExecuteTime": {
     "start_time": "2023-05-11T19:34:33.626838Z",
     "end_time": "2023-05-11T19:34:38.564882Z"
    }
   }
  },
  {
   "cell_type": "code",
   "execution_count": null,
   "outputs": [],
   "source": [],
   "metadata": {
    "collapsed": false
   }
  }
 ],
 "metadata": {
  "kernelspec": {
   "display_name": "Python 3",
   "language": "python",
   "name": "python3"
  },
  "language_info": {
   "codemirror_mode": {
    "name": "ipython",
    "version": 2
   },
   "file_extension": ".py",
   "mimetype": "text/x-python",
   "name": "python",
   "nbconvert_exporter": "python",
   "pygments_lexer": "ipython2",
   "version": "2.7.6"
  }
 },
 "nbformat": 4,
 "nbformat_minor": 0
}
