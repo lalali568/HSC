{
  "nbformat": 4,
  "nbformat_minor": 0,
  "metadata": {
    "colab": {
      "provenance": [],
      "mount_file_id": "1hDRee4At9kXQF6toxK_mHYkx35Akt3Ip",
      "authorship_tag": "ABX9TyMGna3KTNUFUQuWbgHxOIxo",
      "include_colab_link": true
    },
    "kernelspec": {
      "name": "python3",
      "display_name": "Python 3"
    },
    "language_info": {
      "name": "python"
    }
  },
  "cells": [
    {
      "cell_type": "markdown",
      "metadata": {
        "id": "view-in-github",
        "colab_type": "text"
      },
      "source": [
        "<a href=\"https://colab.research.google.com/github/lalali568/best_pipline/blob/main/Untitled0.ipynb\" target=\"_parent\"><img src=\"https://colab.research.google.com/assets/colab-badge.svg\" alt=\"Open In Colab\"/></a>"
      ]
    },
    {
      "cell_type": "code",
      "execution_count": 1,
      "metadata": {
        "colab": {
          "base_uri": "https://localhost:8080/"
        },
        "id": "Zv9iWtcz77r5",
        "outputId": "f8013cb0-74f1-462a-a06a-1bdf726c2950"
      },
      "outputs": [
        {
          "output_type": "stream",
          "name": "stdout",
          "text": [
            "Cloning into 'best_pipline'...\n",
            "remote: Enumerating objects: 2768, done.\u001b[K\n",
            "remote: Counting objects: 100% (602/602), done.\u001b[K\n",
            "remote: Compressing objects: 100% (328/328), done.\u001b[K\n",
            "remote: Total 2768 (delta 262), reused 565 (delta 258), pack-reused 2166\u001b[K\n",
            "Receiving objects: 100% (2768/2768), 602.76 MiB | 48.76 MiB/s, done.\n",
            "Resolving deltas: 100% (1145/1145), done.\n",
            "Updating files: 100% (2545/2545), done.\n"
          ]
        }
      ],
      "source": [
        "! git clone https://github.com/lalali568/best_pipline.git"
      ]
    },
    {
      "cell_type": "code",
      "source": [
        "%cd best_pipline"
      ],
      "metadata": {
        "colab": {
          "base_uri": "https://localhost:8080/"
        },
        "id": "nKpWuh2p7_vM",
        "outputId": "a22e8754-c83f-4f27-bcb4-fc6c501f5c15"
      },
      "execution_count": 5,
      "outputs": [
        {
          "output_type": "stream",
          "name": "stdout",
          "text": [
            "/content/best_pipline\n"
          ]
        }
      ]
    },
    {
      "cell_type": "code",
      "source": [
        "! git checkout -b co-lab"
      ],
      "metadata": {
        "colab": {
          "base_uri": "https://localhost:8080/"
        },
        "id": "3ktsCfYi8RiA",
        "outputId": "c6f4c5fa-ac4b-46a3-c975-60d430d929e8"
      },
      "execution_count": 7,
      "outputs": [
        {
          "output_type": "stream",
          "name": "stdout",
          "text": [
            "Switched to a new branch 'co-lab'\n"
          ]
        }
      ]
    },
    {
      "cell_type": "code",
      "source": [
        "! git commit -m \"123\""
      ],
      "metadata": {
        "colab": {
          "base_uri": "https://localhost:8080/"
        },
        "id": "kUzNtBWd8Tcy",
        "outputId": "49f854f7-865c-490d-e432-480e22589caa"
      },
      "execution_count": 9,
      "outputs": [
        {
          "output_type": "stream",
          "name": "stdout",
          "text": [
            "\n",
            "*** Please tell me who you are.\n",
            "\n",
            "Run\n",
            "\n",
            "  git config --global user.email \"you@example.com\"\n",
            "  git config --global user.name \"Your Name\"\n",
            "\n",
            "to set your account's default identity.\n",
            "Omit --global to set the identity only in this repository.\n",
            "\n",
            "fatal: unable to auto-detect email address (got 'root@f07e03b39eed.(none)')\n"
          ]
        }
      ]
    },
    {
      "cell_type": "code",
      "source": [
        "! git config --global user.email \"2289743915@qq.com\""
      ],
      "metadata": {
        "id": "dp5yKDh48l-Q"
      },
      "execution_count": 10,
      "outputs": []
    },
    {
      "cell_type": "code",
      "source": [
        "!git config --global user.name \"lalali568\" "
      ],
      "metadata": {
        "id": "xspwdCz685Xa"
      },
      "execution_count": 19,
      "outputs": []
    },
    {
      "cell_type": "code",
      "source": [
        "!git commit -m \"0609\""
      ],
      "metadata": {
        "colab": {
          "base_uri": "https://localhost:8080/"
        },
        "id": "CudIxwmZ8-aN",
        "outputId": "5a412186-6c2c-490c-ef2e-c378da71fd6d"
      },
      "execution_count": 20,
      "outputs": [
        {
          "output_type": "stream",
          "name": "stdout",
          "text": [
            "On branch co-lab\n",
            "nothing to commit, working tree clean\n"
          ]
        }
      ]
    },
    {
      "cell_type": "code",
      "source": [
        "! git push --set-upstream origin co-lab"
      ],
      "metadata": {
        "colab": {
          "base_uri": "https://localhost:8080/"
        },
        "id": "MfS1ox4P9CDd",
        "outputId": "525be574-55a7-4e22-98f7-df44f66acb9d"
      },
      "execution_count": 23,
      "outputs": [
        {
          "output_type": "stream",
          "name": "stdout",
          "text": [
            "fatal: could not read Username for 'https://github.com': No such device or address\n"
          ]
        }
      ]
    },
    {
      "cell_type": "code",
      "source": [
        "! git config --global credential.helper store"
      ],
      "metadata": {
        "id": "IKO3qigQ9EZY"
      },
      "execution_count": 22,
      "outputs": []
    },
    {
      "cell_type": "code",
      "source": [
        "%cd /content/drive/MyDrive/best_pipline_data/best_pipline"
      ],
      "metadata": {
        "colab": {
          "base_uri": "https://localhost:8080/"
        },
        "id": "hvC3JNhC-Ou9",
        "outputId": "2647f6db-8d26-4f53-85d9-1d0c1696c919"
      },
      "execution_count": 24,
      "outputs": [
        {
          "output_type": "stream",
          "name": "stdout",
          "text": [
            "/content/drive/MyDrive/best_pipline_data/best_pipline\n"
          ]
        }
      ]
    },
    {
      "cell_type": "code",
      "source": [
        "! git checkout main"
      ],
      "metadata": {
        "colab": {
          "base_uri": "https://localhost:8080/"
        },
        "id": "Tf2CjHYH-e43",
        "outputId": "06f95649-f5b2-4375-f0e9-904c2b56359a"
      },
      "execution_count": 30,
      "outputs": [
        {
          "output_type": "stream",
          "name": "stdout",
          "text": [
            "^C\n"
          ]
        }
      ]
    },
    {
      "cell_type": "code",
      "source": [
        "%cd /content/drive/MyDrive/test"
      ],
      "metadata": {
        "colab": {
          "base_uri": "https://localhost:8080/"
        },
        "id": "dm5QtSFd-5Gg",
        "outputId": "88653047-c780-4305-ddf8-af5a6de70ae5"
      },
      "execution_count": 31,
      "outputs": [
        {
          "output_type": "stream",
          "name": "stdout",
          "text": [
            "/content/drive/MyDrive/test\n"
          ]
        }
      ]
    },
    {
      "cell_type": "code",
      "source": [
        "!git clone https://github.com/lalali568/best_pipline.git"
      ],
      "metadata": {
        "colab": {
          "base_uri": "https://localhost:8080/"
        },
        "id": "izYB6LQo_PJj",
        "outputId": "18514b54-670e-4eb0-c3a9-ebd14eaac1b9"
      },
      "execution_count": 33,
      "outputs": [
        {
          "output_type": "stream",
          "name": "stdout",
          "text": [
            "Cloning into 'best_pipline'...\n",
            "remote: Enumerating objects: 2768, done.\u001b[K\n",
            "remote: Counting objects: 100% (602/602), done.\u001b[K\n",
            "remote: Compressing objects: 100% (328/328), done.\u001b[K\n",
            "remote: Total 2768 (delta 262), reused 565 (delta 258), pack-reused 2166\u001b[K\n",
            "Receiving objects: 100% (2768/2768), 602.76 MiB | 17.80 MiB/s, done.\n",
            "Resolving deltas: 100% (1145/1145), done.\n",
            "Updating files: 100% (2545/2545), done.\n"
          ]
        }
      ]
    },
    {
      "cell_type": "code",
      "source": [
        "%cd best_pipline"
      ],
      "metadata": {
        "colab": {
          "base_uri": "https://localhost:8080/"
        },
        "id": "MBPL_Zn0_SnY",
        "outputId": "303f926b-cf88-45ba-fa9b-6e3b1c234a7a"
      },
      "execution_count": 34,
      "outputs": [
        {
          "output_type": "stream",
          "name": "stdout",
          "text": [
            "/content/drive/MyDrive/test/best_pipline\n"
          ]
        }
      ]
    },
    {
      "cell_type": "code",
      "source": [
        "!git checkout -b colab"
      ],
      "metadata": {
        "colab": {
          "base_uri": "https://localhost:8080/"
        },
        "id": "z4yfC8GH_q6u",
        "outputId": "1e3b8fbe-f2f4-461c-b448-86049afe8c12"
      },
      "execution_count": 35,
      "outputs": [
        {
          "output_type": "stream",
          "name": "stdout",
          "text": [
            "Switched to a new branch 'colab'\n"
          ]
        }
      ]
    },
    {
      "cell_type": "code",
      "source": [
        "!git push"
      ],
      "metadata": {
        "colab": {
          "base_uri": "https://localhost:8080/"
        },
        "id": "sAhktNAD_vhL",
        "outputId": "0d103807-a556-4108-e538-f5307da0bf41"
      },
      "execution_count": 36,
      "outputs": [
        {
          "output_type": "stream",
          "name": "stdout",
          "text": [
            "fatal: The current branch colab has no upstream branch.\n",
            "To push the current branch and set the remote as upstream, use\n",
            "\n",
            "    git push --set-upstream origin colab\n",
            "\n"
          ]
        }
      ]
    },
    {
      "cell_type": "code",
      "source": [
        "!git push --set-upstream origin colab"
      ],
      "metadata": {
        "colab": {
          "base_uri": "https://localhost:8080/"
        },
        "id": "m84R6LIS_xf0",
        "outputId": "2ce5405e-8875-4c93-a5d9-c081139f0175"
      },
      "execution_count": 37,
      "outputs": [
        {
          "output_type": "stream",
          "name": "stdout",
          "text": [
            "fatal: could not read Username for 'https://github.com': No such device or address\n"
          ]
        }
      ]
    },
    {
      "cell_type": "code",
      "source": [
        "!ssh-keygen -t ed25519 -C \"2289743915@qq.com\""
      ],
      "metadata": {
        "colab": {
          "base_uri": "https://localhost:8080/"
        },
        "id": "HomIZtOx_zpS",
        "outputId": "2e067867-8bed-4b0d-fa6a-d8d58ce6c3d5"
      },
      "execution_count": 42,
      "outputs": [
        {
          "output_type": "stream",
          "name": "stdout",
          "text": [
            "Generating public/private ed25519 key pair.\n",
            "Enter file in which to save the key (/root/.ssh/id_ed25519): /content/drive/.ssh\n",
            "Enter passphrase (empty for no passphrase): \n",
            "Enter same passphrase again: \n",
            "Saving key \"/content/drive/.ssh\" failed: Operation not supported\n"
          ]
        }
      ]
    },
    {
      "cell_type": "code",
      "source": [],
      "metadata": {
        "id": "f12e1MtyAOSm"
      },
      "execution_count": null,
      "outputs": []
    }
  ]
}