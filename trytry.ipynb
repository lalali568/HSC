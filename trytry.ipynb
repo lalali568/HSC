{
 "cells": [
  {
   "cell_type": "code",
   "execution_count": 2,
   "metadata": {
    "collapsed": true,
    "ExecuteTime": {
     "start_time": "2023-05-18T16:04:23.411231Z",
     "end_time": "2023-05-18T16:04:24.653699Z"
    }
   },
   "outputs": [],
   "source": [
    "import numpy as np\n",
    "import matplotlib.pyplot as plt\n",
    "from sklearn.cluster import KMeans"
   ]
  },
  {
   "cell_type": "code",
   "execution_count": 5,
   "outputs": [],
   "source": [
    "import torch\n",
    "import torch.nn.functional as F\n",
    "from torch_geometric.nn import GATConv\n",
    "from torch_geometric.data import Data\n",
    "\n",
    "# 假设你的数据是一个形状为（20，16）的二维数组\n",
    "your_data = torch.randn(20, 16)\n",
    "# 创建一个Data对象\n",
    "data = Data(x=your_data)\n",
    "class GATModel(torch.nn.Module):\n",
    "    def __init__(self, in_features, out_features):\n",
    "        super(GATModel, self).__init__()\n",
    "        self.conv = GATConv(in_features, out_features)\n",
    "\n",
    "    def forward(self, x, edge_index):\n",
    "        x = self.conv(x, edge_index)\n",
    "        return x\n",
    "# 初始化模型\n",
    "model = GATModel(in_features=16, out_features=8)\n",
    "\n",
    "# 定义边的索引（这个示例中使用完全连接的图）\n",
    "edge_index = torch.tensor([[i, j] for i in range(20) for j in range(20) if i != j], dtype=torch.long).t().contiguous()\n",
    "# 进行特征融合\n",
    "output = model(data.x, edge_index)\n"
   ],
   "metadata": {
    "collapsed": false,
    "ExecuteTime": {
     "start_time": "2023-05-25T15:02:53.250557Z",
     "end_time": "2023-05-25T15:02:53.313119Z"
    }
   }
  }
 ],
 "metadata": {
  "kernelspec": {
   "display_name": "Python 3",
   "language": "python",
   "name": "python3"
  },
  "language_info": {
   "codemirror_mode": {
    "name": "ipython",
    "version": 2
   },
   "file_extension": ".py",
   "mimetype": "text/x-python",
   "name": "python",
   "nbconvert_exporter": "python",
   "pygments_lexer": "ipython2",
   "version": "2.7.6"
  }
 },
 "nbformat": 4,
 "nbformat_minor": 0
}
